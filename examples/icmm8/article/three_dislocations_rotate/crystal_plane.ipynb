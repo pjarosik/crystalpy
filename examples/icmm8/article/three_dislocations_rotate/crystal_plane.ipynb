{
 "cells": [
  {
   "cell_type": "code",
   "execution_count": null,
   "id": "47461dd6-ac84-4a86-a7fe-83efdb3d1860",
   "metadata": {},
   "outputs": [],
   "source": [
    "from utilsv2 import *\n",
    "\n",
    "\n",
    "def get_total_beta(t, y, l, d1, d2, d1_rt, d2_rt):\n",
    "    # NOTE: t == x, y == y\n",
    "    x = t\n",
    "    p = np.asarray([x, y, 0.0])\n",
    "    betas_1 = get_betas(l, d1, p.reshape(-1, 3), d1_rt)\n",
    "    betas_2 = get_betas(l, d2, p.reshape(-1, 3), d2_rt)\n",
    "    betas = betas_1 + betas_2\n",
    "    F_inv = (broadcast_eye(2, betas.shape[0]) - betas)\n",
    "    return F_inv[1, 0]/F_inv[1, 1]\n",
    "    \n",
    "\n",
    "def get_cp_integral(l, y0, d1_local, d2_local, d1_rt_local, d2_rt_local):\n",
    "    def func(t, y):\n",
    "        return get_total_beta(t, y, l, d1_)"
   ]
  }
 ],
 "metadata": {
  "kernelspec": {
   "display_name": "Python 3 (ipykernel)",
   "language": "python",
   "name": "python3"
  },
  "language_info": {
   "codemirror_mode": {
    "name": "ipython",
    "version": 3
   },
   "file_extension": ".py",
   "mimetype": "text/x-python",
   "name": "python",
   "nbconvert_exporter": "python",
   "pygments_lexer": "ipython3",
   "version": "3.8.17"
  }
 },
 "nbformat": 4,
 "nbformat_minor": 5
}
