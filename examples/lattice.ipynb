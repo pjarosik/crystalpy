{
 "cells": [
  {
   "cell_type": "code",
   "execution_count": null,
   "id": "initial_id",
   "metadata": {
    "ExecuteTime": {
     "end_time": "2023-08-01T14:36:08.016461667Z",
     "start_time": "2023-08-01T14:36:07.940724259Z"
    }
   },
   "outputs": [],
   "source": [
    "import numpy as np\n",
    "import crystalpy as crp"
   ]
  },
  {
   "cell_type": "code",
   "execution_count": null,
   "id": "bdcf0c919294f6f7",
   "metadata": {
    "collapsed": false,
    "jupyter": {
     "outputs_hidden": false
    }
   },
   "outputs": [],
   "source": [
    "lattice = crp.generate.create_lattice(\n",
    "    dimensions=(1, 3, 3),  #  The number of cells\n",
    "    cell=\"3C_SiC\",\n",
    ")\n",
    "lattice"
   ]
  },
  {
   "cell_type": "code",
   "execution_count": null,
   "id": "51dd5614a35eaf04",
   "metadata": {
    "collapsed": false,
    "jupyter": {
     "outputs_hidden": false
    }
   },
   "outputs": [],
   "source": [
    "crp.visualization.render(crystal=lattice, window_size=(800, 800))"
   ]
  }
 ],
 "metadata": {
  "kernelspec": {
   "display_name": "Python 3 (ipykernel)",
   "language": "python",
   "name": "python3"
  },
  "language_info": {
   "codemirror_mode": {
    "name": "ipython",
    "version": 3
   },
   "file_extension": ".py",
   "mimetype": "text/x-python",
   "name": "python",
   "nbconvert_exporter": "python",
   "pygments_lexer": "ipython3",
   "version": "3.8.17"
  }
 },
 "nbformat": 4,
 "nbformat_minor": 5
}
