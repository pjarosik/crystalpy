{
 "cells": [
  {
   "cell_type": "code",
   "execution_count": null,
   "id": "initial_id",
   "metadata": {
    "ExecuteTime": {
     "end_time": "2023-08-01T14:36:08.016461667Z",
     "start_time": "2023-08-01T14:36:07.940724259Z"
    }
   },
   "outputs": [],
   "source": [
    "import numpy as np\n",
    "import wurtzite as wzt\n",
    "import matplotlib.pyplot as plt\n",
    "import matplotlib"
   ]
  },
  {
   "cell_type": "markdown",
   "id": "4a9ddeaa-511a-4947-97b0-de2ba2e32ea2",
   "metadata": {},
   "source": [
    "## 1st dislocation"
   ]
  },
  {
   "cell_type": "code",
   "execution_count": null,
   "id": "bdcf0c919294f6f7",
   "metadata": {
    "collapsed": false,
    "jupyter": {
     "outputs_hidden": false
    }
   },
   "outputs": [],
   "source": [
    "l0 = wzt.generate.create_lattice(\n",
    "    dimensions=(5, 5, 3),  #  The number of cells\n",
    "    cell=\"B4_ZnS\",\n",
    ")"
   ]
  },
  {
   "cell_type": "code",
   "execution_count": null,
   "id": "51dd5614a35eaf04",
   "metadata": {
    "collapsed": false,
    "jupyter": {
     "outputs_hidden": false
    }
   },
   "outputs": [],
   "source": [
    "wzt.visualization.render(molecule=l0, window_size=(800, 800))"
   ]
  },
  {
   "cell_type": "code",
   "execution_count": null,
   "id": "3c5683a0-7b6a-4c10-99b1-c84544d180e0",
   "metadata": {},
   "outputs": [],
   "source": [
    "b0 = [1, 0, 0]\n",
    "position0 = [5, 6, 7.5]\n",
    "plane0 = (0, 0, 1)\n",
    "\n",
    "u0 = wzt.dislocations.displace_love(\n",
    "    crystal=l0,\n",
    "    position=position0,\n",
    "    burgers_vector=b0,\n",
    "    plane=plane0,\n",
    "    bv_fraction=1.0,\n",
    ")"
   ]
  },
  {
   "cell_type": "code",
   "execution_count": null,
   "id": "29a939ef-1f66-4702-a4d6-4316b773ab36",
   "metadata": {},
   "outputs": [],
   "source": [
    "rt = wzt.dislocations._get_rotation_tensor(\n",
    "        burgers_vector=b0,\n",
    "        plane=plane0,\n",
    "        cell=l0.cell\n",
    ")\n",
    "rt"
   ]
  },
  {
   "cell_type": "code",
   "execution_count": null,
   "id": "bb65bac7-c229-47bb-bd84-e2569ce666f5",
   "metadata": {},
   "outputs": [],
   "source": [
    "%matplotlib widget\n",
    "plt.xlabel(\"OX ($\\AA$)\")\n",
    "plt.ylabel(\"OY ($\\AA$)\")\n",
    "plt.title(\"Dislocation field (u), z = 0 projection\")\n",
    "y_dim = 1\n",
    "x_dim = 0\n",
    "\n",
    "plt.quiver(l0.coordinates[..., x_dim], l0.coordinates[..., y_dim], u0[..., x_dim], u0[..., y_dim], \n",
    "           color=wzt.visualization.vectors_to_rgb(u0[..., (x_dim, y_dim)]))\n",
    "plt.scatter(position0[x_dim], position0[y_dim], s=200.5, c=\"brown\", marker=\"1\")\n",
    "plt.tight_layout()\n",
    "plt.gca().invert_yaxis()"
   ]
  },
  {
   "cell_type": "code",
   "execution_count": null,
   "id": "e17feec0-c005-4f67-bbf9-9dd1c3b760e2",
   "metadata": {},
   "outputs": [],
   "source": [
    "l1 = l0.translate(u0)\n",
    "l1 = wzt.generate.update_bonds(l1)\n",
    "wzt.visualization.render(molecule=l1, window_size=(800, 800))"
   ]
  },
  {
   "cell_type": "code",
   "execution_count": null,
   "id": "9851e033-48d3-4540-9bbc-f2b61eec3df1",
   "metadata": {},
   "outputs": [],
   "source": [
    "def beta(burgers_vector, bv_fraction, plane, cell, x):\n",
    "    rt = wzt.dislocations._get_rotation_tensor(\n",
    "        burgers_vector=burgers_vector,\n",
    "        plane=plane,\n",
    "        cell=cell\n",
    "    )\n",
    "    burgers_vector = bv_fraction*cell.to_cartesian_indices(burgers_vector)\n",
    "    burgers_vector = burgers_vector.reshape(-1, 1)\n",
    "    burgers_vector = rt.dot(burgers_vector).squeeze()\n",
    "\n",
    "    be = np.sqrt(burgers_vector[0]**2 + burgers_vector[1]**2)\n",
    "    bz = burgers_vector[2]\n",
    "    return rt, wzt.dislocations.beta_function(x, be=be, bz=bz)"
   ]
  }
 ],
 "metadata": {
  "kernelspec": {
   "display_name": "Python 3 (ipykernel)",
   "language": "python",
   "name": "python3"
  },
  "language_info": {
   "codemirror_mode": {
    "name": "ipython",
    "version": 3
   },
   "file_extension": ".py",
   "mimetype": "text/x-python",
   "name": "python",
   "nbconvert_exporter": "python",
   "pygments_lexer": "ipython3",
   "version": "3.8.17"
  }
 },
 "nbformat": 4,
 "nbformat_minor": 5
}
